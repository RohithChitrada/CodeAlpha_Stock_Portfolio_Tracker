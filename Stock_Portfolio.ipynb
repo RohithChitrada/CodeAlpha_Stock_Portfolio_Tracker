{
  "nbformat": 4,
  "nbformat_minor": 0,
  "metadata": {
    "colab": {
      "provenance": [],
      "authorship_tag": "ABX9TyOoGHhM9QDANCYFvRvxBfqb",
      "include_colab_link": true
    },
    "kernelspec": {
      "name": "python3",
      "display_name": "Python 3"
    },
    "language_info": {
      "name": "python"
    }
  },
  "cells": [
    {
      "cell_type": "markdown",
      "metadata": {
        "id": "view-in-github",
        "colab_type": "text"
      },
      "source": [
        "<a href=\"https://colab.research.google.com/github/RohithChitrada/CodeAlpha_Stock_Portfolio_Tracker/blob/main/Stock_Portfolio.ipynb\" target=\"_parent\"><img src=\"https://colab.research.google.com/assets/colab-badge.svg\" alt=\"Open In Colab\"/></a>"
      ]
    },
    {
      "cell_type": "code",
      "execution_count": null,
      "metadata": {
        "id": "fLSZONWPOL1y"
      },
      "outputs": [],
      "source": [
        "import yfinance as yf"
      ]
    },
    {
      "cell_type": "code",
      "source": [
        "class Stock:\n",
        "    def __init__(self, symbol, quantity):\n",
        "        self.symbol = symbol\n",
        "        self.quantity = quantity\n",
        "        self.data = None\n",
        "\n",
        "    def fetch_data(self):\n",
        "        self.data = yf.Ticker(self.symbol).history(period=\"1d\")\n",
        "\n",
        "    def current_price(self):\n",
        "        if self.data is None:\n",
        "            self.fetch_data()\n",
        "        return self.data['Close'].iloc[-1]"
      ],
      "metadata": {
        "id": "y1NJ61KkOaEI"
      },
      "execution_count": null,
      "outputs": []
    },
    {
      "cell_type": "code",
      "source": [
        "class Portfolio:\n",
        "    def __init__(self):\n",
        "        self.stocks = {}\n",
        "\n",
        "    def add_stock(self, symbol, quantity):\n",
        "        if symbol in self.stocks:\n",
        "            self.stocks[symbol].quantity += quantity\n",
        "        else:\n",
        "            stock = Stock(symbol, quantity)\n",
        "            self.stocks[symbol] = stock\n",
        "\n",
        "    def remove_stock(self, symbol):\n",
        "        if symbol in self.stocks:\n",
        "            del self.stocks[symbol]\n",
        "        else:\n",
        "            print(\"Stock not found in portfolio.\")\n",
        "\n",
        "    def update_quantity(self, symbol, quantity):\n",
        "        if symbol in self.stocks:\n",
        "            self.stocks[symbol].quantity = quantity\n",
        "        else:\n",
        "            print(\"Stock not found in portfolio.\")\n",
        "\n",
        "    def current_value(self):\n",
        "        total_value = 0\n",
        "        for stock in self.stocks.values():\n",
        "            total_value += stock.current_price() * stock.quantity\n",
        "        return total_value\n",
        "\n",
        "    def display_portfolio(self):\n",
        "        print(\"Stock\\t\\tQuantity\\tCurrent Price\\tTotal Value\")\n",
        "        print(\"-\" * 50)\n",
        "        for symbol, stock in self.stocks.items():\n",
        "            current_price = stock.current_price()\n",
        "            total_value = current_price * stock.quantity\n",
        "            print(f\"{symbol}\\t\\t{stock.quantity}\\t\\t${current_price:.2f}\\t\\t${total_value:.2f}\")\n",
        "        print(\"-\" * 50)\n",
        "        print(f\"Total Portfolio Value: ${self.current_value():.2f}\")"
      ],
      "metadata": {
        "id": "YFvhHKZqOcMn"
      },
      "execution_count": null,
      "outputs": []
    },
    {
      "cell_type": "code",
      "source": [
        "if __name__ == \"__main__\":\n",
        "\n",
        "    portfolio = Portfolio()\n",
        "    while True:\n",
        "        print(\"\\nStock Portfolio Tracker Menu\")\n",
        "        print(\"1. Add Stock\")\n",
        "        print(\"2. Remove Stock\")\n",
        "        print(\"3. Display Portfolio\")\n",
        "        print(\"4. Update Quantity\")\n",
        "        print(\"5. Exit\")\n",
        "        choice = input(\"Enter your choice: \")\n",
        "\n",
        "        if choice == '1':\n",
        "            symbol = input(\"Enter stock symbol to add: \").upper()\n",
        "            shares = int(input(\"Enter number of shares: \"))\n",
        "            portfolio.add_stock(symbol, shares)\n",
        "            print(f\"Added {shares} shares of {symbol} to portfolio.\")\n",
        "        elif choice == '2':\n",
        "            symbol = input(\"Enter stock symbol to remove: \").upper()\n",
        "            portfolio.remove_stock(symbol)\n",
        "            print(f\"{symbol} removed from portfolio.\")\n",
        "        elif choice == '3':\n",
        "            portfolio.display_portfolio()\n",
        "        elif choice == '4':\n",
        "            symbol = input(\"Enter stock symbol to add: \").upper()\n",
        "            shares = int(input(\"Enter number of shares: \"))\n",
        "            portfolio.update_quantity(symbol,shares)\n",
        "        elif choice == '5':\n",
        "            print(\"Exiting the tracker.\")\n",
        "            break\n",
        "        else:\n",
        "            print(\"Invalid choice. Please try again.\")"
      ],
      "metadata": {
        "colab": {
          "base_uri": "https://localhost:8080/"
        },
        "id": "6ZdJ5zx5OfqG",
        "outputId": "caaf0748-05f6-4782-c518-5eeeeee668a0"
      },
      "execution_count": null,
      "outputs": [
        {
          "output_type": "stream",
          "name": "stdout",
          "text": [
            "\n",
            "Stock Portfolio Tracker Menu\n",
            "1. Add Stock\n",
            "2. Remove Stock\n",
            "3. Display Portfolio\n",
            "4. Update Quantity\n",
            "5. Exit\n"
          ]
        }
      ]
    }
  ]
}